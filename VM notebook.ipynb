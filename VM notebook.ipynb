{
 "cells": [
  {
   "cell_type": "code",
   "execution_count": 1,
   "id": "6680722b-e870-44b3-9910-31b6b56591fa",
   "metadata": {},
   "outputs": [
    {
     "name": "stdout",
     "output_type": "stream",
     "text": [
      "hello\n"
     ]
    }
   ],
   "source": [
    "print(\"hello\")"
   ]
  },
  {
   "cell_type": "code",
   "execution_count": 6,
   "id": "20244960-4c91-4135-88fc-77eaa4c0252a",
   "metadata": {},
   "outputs": [],
   "source": [
    "import os\n",
    "os.environ['GOOGLE_APPLICATION_CREDENTIALS'] = '~/.config/gcloud/application_default_credentials.json'"
   ]
  },
  {
   "cell_type": "code",
   "execution_count": 7,
   "id": "651bce3f-eab0-4faa-a4da-80c6064c5ecb",
   "metadata": {},
   "outputs": [],
   "source": [
    "import os\n",
    "from google.cloud import bigquery\n",
    "from google.oauth2 import service_account\n",
    "\n",
    "# Set the correct path to your service account key file on the VM\n",
    "key_path = os.path.expanduser(\"ferrous-freedom-379609-0c6e4d6e9aae.json\")\n",
    "\n",
    "# Load credentials\n",
    "credentials = service_account.Credentials.from_service_account_file(key_path)\n",
    "\n",
    "# Create a BigQuery client\n",
    "client = bigquery.Client(credentials=credentials, project=credentials.project_id)\n"
   ]
  },
  {
   "cell_type": "code",
   "execution_count": 4,
   "id": "078062b7-c08b-429c-9272-89360833b302",
   "metadata": {},
   "outputs": [],
   "source": [
    "import logging\n",
    "from io import StringIO\n",
    "\n",
    "import pandas as pd\n",
    "import requests"
   ]
  },
  {
   "cell_type": "code",
   "execution_count": 8,
   "id": "99180ed1-4b1d-4b11-916a-965f0d017ef2",
   "metadata": {},
   "outputs": [
    {
     "name": "stdout",
     "output_type": "stream",
     "text": [
      "4\n",
      "6\n",
      "7\n",
      "9\n",
      "11\n",
      "12\n",
      "13\n",
      "14\n",
      "19\n",
      "33\n"
     ]
    }
   ],
   "source": [
    "import os \n",
    "from google.cloud import bigquery\n",
    "\n",
    "os.environ['GOOGLE_APPLICATION_CREDENTIALS']= 'ferrous-freedom-379609-0c6e4d6e9aae.json'\n",
    "client = bigquery.Client()\n",
    "\n",
    "sql_query=\"\"\"SELECT id FROM `bigquery-public-data.stackoverflow.stackoverflow_posts`  \n",
    "where score> 100\n",
    "Order by id asc \n",
    "\n",
    "LIMIT 10\n",
    "\"\"\"\n",
    "\n",
    "query_job=client.query(sql_query)\n",
    "#query_job.result()\n",
    "#for row in query_job.result():\n",
    "#    print(row)\n",
    "\n",
    "for row in query_job.result():\n",
    "    # Access the 'id' field in each row\n",
    "    id_value = row['id']\n",
    "    print(id_value)"
   ]
  }
 ],
 "metadata": {
  "kernelspec": {
   "display_name": "Python 3 (ipykernel)",
   "language": "python",
   "name": "python3"
  },
  "language_info": {
   "codemirror_mode": {
    "name": "ipython",
    "version": 3
   },
   "file_extension": ".py",
   "mimetype": "text/x-python",
   "name": "python",
   "nbconvert_exporter": "python",
   "pygments_lexer": "ipython3",
   "version": "3.9.2"
  }
 },
 "nbformat": 4,
 "nbformat_minor": 5
}
